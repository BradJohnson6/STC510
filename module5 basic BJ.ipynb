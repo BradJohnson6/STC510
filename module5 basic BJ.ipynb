{
 "cells": [
  {
   "cell_type": "code",
   "execution_count": 1,
   "id": "2a7b745f-7ec6-48bd-b7ef-20e259214d4c",
   "metadata": {},
   "outputs": [],
   "source": [
    "#importing the necessary packages \n",
    "from nltk import word_tokenize\n",
    "from nltk.corpus import stopwords\n",
    "from nltk.stem import WordNetLemmatizer\n",
    "from bs4 import BeautifulSoup\n",
    "from sklearn.feature_extraction.text import TfidfVectorizer\n",
    "from sklearn.model_selection import train_test_split\n",
    "from sklearn.naive_bayes import MultinomialNB\n",
    "from sklearn.metrics import accuracy_score\n",
    "import pandas as pd\n",
    "import json\n",
    "import re\n",
    "import os\n",
    "from string import punctuation\n",
    "from datetime import datetime"
   ]
  },
  {
   "cell_type": "code",
   "execution_count": 2,
   "id": "302a0c87-6e82-4434-b37f-27c9c521b7ba",
   "metadata": {},
   "outputs": [
    {
     "data": {
      "text/plain": [
       "[{'category': 'HISTORY',\n",
       "  'air_date': '2004-12-31',\n",
       "  'question': \"'For the last 8 years of his life, Galileo was under house arrest for espousing this man's theory'\",\n",
       "  'value': '$200',\n",
       "  'answer': 'Copernicus',\n",
       "  'round': 'Jeopardy!',\n",
       "  'show_number': '4680'}]"
      ]
     },
     "execution_count": 2,
     "metadata": {},
     "output_type": "execute_result"
    }
   ],
   "source": [
    "#importing the json file and previewing the first entry\n",
    "jeopardy = open(\"jeopardy.json\")\n",
    "jd =json.load(jeopardy)\n",
    "jd[:1]"
   ]
  },
  {
   "cell_type": "code",
   "execution_count": 4,
   "id": "6b2388af-0d41-4710-b6a6-1aa1579ca224",
   "metadata": {},
   "outputs": [],
   "source": [
    "#creating lists for each key in the dictionary \n",
    "category = [d['category'] for d in jd]\n",
    "air_date = [d['air_date'] for d in jd]\n",
    "question = [d['question'] for d in jd]\n",
    "value = [d['value'] for d in jd]\n",
    "answer = [d['answer'] for d in jd]\n",
    "jround = [d['round'] for d in jd]\n",
    "show_number = [d['show_number'] for d in jd]"
   ]
  },
  {
   "cell_type": "code",
   "execution_count": 5,
   "id": "6ca741c9-ad74-4c7f-bb16-424e20a2265f",
   "metadata": {},
   "outputs": [],
   "source": [
    "#replacing the none value with a space so we can iterate over the list\n",
    "new_value = [str(i or '') for i in value]"
   ]
  },
  {
   "cell_type": "code",
   "execution_count": 6,
   "id": "3354fef7-5196-47f3-8182-91ef10ce3548",
   "metadata": {},
   "outputs": [],
   "source": [
    "#assigning values of easy <1000 and hard >=1000\n",
    "easy_hard = [0 if re.search(r'\\$\\d{3}$',x) else 1  for x in new_value]"
   ]
  },
  {
   "cell_type": "code",
   "execution_count": 10,
   "id": "ab449b7e-9eb8-4115-b8cf-20211e49ba7d",
   "metadata": {},
   "outputs": [
    {
     "data": {
      "text/plain": [
       "[('$200', 0),\n",
       " ('$200', 0),\n",
       " ('$200', 0),\n",
       " ('$200', 0),\n",
       " ('$200', 0),\n",
       " ('$200', 0),\n",
       " ('$400', 0),\n",
       " ('$400', 0),\n",
       " ('$400', 0),\n",
       " ('$400', 0),\n",
       " ('$400', 0),\n",
       " ('$400', 0),\n",
       " ('$600', 0),\n",
       " ('$600', 0),\n",
       " ('$600', 0),\n",
       " ('$600', 0),\n",
       " ('$600', 0),\n",
       " ('$600', 0),\n",
       " ('$800', 0),\n",
       " ('$800', 0),\n",
       " ('$800', 0),\n",
       " ('$800', 0),\n",
       " ('$2,000', 1),\n",
       " ('$800', 0),\n",
       " ('$1000', 1),\n",
       " ('$1000', 1),\n",
       " ('$1000', 1),\n",
       " ('$1000', 1),\n",
       " ('$1000', 1),\n",
       " ('$400', 0)]"
      ]
     },
     "execution_count": 10,
     "metadata": {},
     "output_type": "execute_result"
    }
   ],
   "source": [
    "#zipping the new hard and easy and previewing to make sure it worked correctly\n",
    "list(zip(new_value, easy_hard))[:30]"
   ]
  },
  {
   "cell_type": "code",
   "execution_count": 12,
   "id": "5f0ccca1-906f-433e-979f-6596bf408848",
   "metadata": {},
   "outputs": [],
   "source": [
    "#creating a pandas dataframe\n",
    "df = pd.DataFrame ({'category': category,\n",
    "                    'air date': air_date,\n",
    "                    'question': question,\n",
    "                    'value': new_value,\n",
    "                    'answer': answer,\n",
    "                    'round': jround,\n",
    "                    'show number': show_number,\n",
    "                    'prediction': easy_hard\n",
    "                   })"
   ]
  },
  {
   "cell_type": "code",
   "execution_count": 13,
   "id": "62f66156-2d62-4e6e-8714-9cb6ad51ede7",
   "metadata": {},
   "outputs": [],
   "source": [
    "#assigning the train and test data\n",
    "X_train, X_test, y_train, y_test = train_test_split(df.value, df.prediction, \n",
    "                                                    random_state = 1)"
   ]
  },
  {
   "cell_type": "code",
   "execution_count": 14,
   "id": "63556299-f9e0-4592-a6f1-32d3c81ebcd9",
   "metadata": {},
   "outputs": [],
   "source": [
    "#Creating the vectors\n",
    "tfidf_vectorizer = TfidfVectorizer(use_idf=True)\n",
    "X_train_tf = tfidf_vectorizer.fit_transform(X_train)\n",
    "X_test_tf = tfidf_vectorizer.transform(X_test)"
   ]
  },
  {
   "cell_type": "code",
   "execution_count": 15,
   "id": "85426fc6-c5f7-40ab-b15f-a0e4f5eb8051",
   "metadata": {},
   "outputs": [],
   "source": [
    "#performing the baysian analysis\n",
    "naive_bayes = MultinomialNB()\n",
    "naive_bayes.fit(X_train_tf, y_train)\n",
    "predictions = naive_bayes.predict(X_test_tf)"
   ]
  },
  {
   "cell_type": "code",
   "execution_count": 16,
   "id": "1c9a625d-034b-42d1-85fb-9054b632306e",
   "metadata": {},
   "outputs": [
    {
     "name": "stdout",
     "output_type": "stream",
     "text": [
      "Accuracy:  0.9679899692069405\n"
     ]
    }
   ],
   "source": [
    "#viewing the accuracy of the analysis\n",
    "print('Accuracy: ', accuracy_score(y_test, predictions))"
   ]
  },
  {
   "cell_type": "code",
   "execution_count": null,
   "id": "966ceccf-8de4-4a48-a167-1b3ebcf96cea",
   "metadata": {},
   "outputs": [],
   "source": []
  }
 ],
 "metadata": {
  "kernelspec": {
   "display_name": "Python 3 (ipykernel)",
   "language": "python",
   "name": "python3"
  },
  "language_info": {
   "codemirror_mode": {
    "name": "ipython",
    "version": 3
   },
   "file_extension": ".py",
   "mimetype": "text/x-python",
   "name": "python",
   "nbconvert_exporter": "python",
   "pygments_lexer": "ipython3",
   "version": "3.9.7"
  }
 },
 "nbformat": 4,
 "nbformat_minor": 5
}
